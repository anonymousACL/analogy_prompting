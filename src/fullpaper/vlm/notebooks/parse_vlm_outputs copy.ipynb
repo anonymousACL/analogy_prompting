{
 "cells": [
  {
   "cell_type": "markdown",
   "metadata": {},
   "source": [
    "# Parsing VLM outputs"
   ]
  },
  {
   "cell_type": "code",
   "execution_count": 1,
   "metadata": {},
   "outputs": [],
   "source": [
    "from utils.paths import ROOT\n",
    "from utils.utils import *\n",
    "from itertools import permutations\n",
    "import json\n",
    "import pandas as pd\n",
    "import numpy as np\n"
   ]
  },
  {
   "cell_type": "code",
   "execution_count": 2,
   "metadata": {},
   "outputs": [],
   "source": [
    "img_labels = ['SHTL', 'XHWK', 'AKRC', 'ZHRN']\n",
    "directions = ['left', 'right', 'up', 'down']\n",
    "label_to_direction = {label:direction for label,direction in zip(img_labels, directions)}"
   ]
  },
  {
   "cell_type": "markdown",
   "metadata": {},
   "source": [
    "## Molmo"
   ]
  },
  {
   "cell_type": "code",
   "execution_count": 18,
   "metadata": {},
   "outputs": [],
   "source": [
    "# outputs = open_json(ROOT / 'src/fullpaper/results/vlms/molmo_human_oneshot.json')\n",
    "outputs = open_json(ROOT / 'src/fullpaper/results/vlms/molmo-72b_human_oneshot.json')"
   ]
  },
  {
   "cell_type": "code",
   "execution_count": 20,
   "metadata": {},
   "outputs": [
    {
     "name": "stdout",
     "output_type": "stream",
     "text": [
      "There are 0 invalid answers\n",
      "There are invalid answers for 0 concepts\n"
     ]
    }
   ],
   "source": [
    "out_dict = {}\n",
    "inv_ans = 0\n",
    "inv_concepts = set()\n",
    "for event in outputs:\n",
    "    out_dict[event] = {'up': 0, 'down': 0, 'left': 0, 'right': 0}\n",
    "    for permutation in outputs[event]:\n",
    "        ans = outputs[event][permutation]\n",
    "        cond = ((img_labels[0]in ans) | (img_labels[1]in ans) | (img_labels[2]in ans) | (img_labels[3]in ans))\n",
    "        if np.array(cond).sum() == 1:\n",
    "            if img_labels[0] in ans:\n",
    "                out_dict[event][label_to_direction[img_labels[0]]] += 1\n",
    "            elif img_labels[1] in ans:\n",
    "                out_dict[event][label_to_direction[img_labels[1]]] += 1\n",
    "            elif img_labels[2] in ans:\n",
    "                out_dict[event][label_to_direction[img_labels[2]]] += 1\n",
    "            elif img_labels[3] in ans:\n",
    "                out_dict[event][label_to_direction[img_labels[3]]] += 1\n",
    "        else:\n",
    "            # print('Invalid answer')\n",
    "            inv_ans +=1\n",
    "            inv_concepts.add(event)\n",
    "for event in out_dict:\n",
    "    for concept in out_dict[event]:\n",
    "        out_dict[event][concept] = round(out_dict[event][concept] / 24 * 100, 1)\n",
    "print(f'There are {inv_ans} invalid answers')\n",
    "print(f'There are invalid answers for {len(inv_concepts)} concepts')\n",
    "\n",
    "\n"
   ]
  },
  {
   "cell_type": "code",
   "execution_count": 74,
   "metadata": {},
   "outputs": [],
   "source": [
    "dict_to_json(out_dict, ROOT / 'src/fullpaper/results/vlms/parsed_results/molmo-72b_human_oneshot.json')"
   ]
  },
  {
   "cell_type": "markdown",
   "metadata": {},
   "source": [
    "Adding this to the valid answers, since it seems that's the only kind of invalid answer output by the model."
   ]
  },
  {
   "cell_type": "code",
   "execution_count": 4,
   "metadata": {},
   "outputs": [],
   "source": [
    "label_to_direction['XHVK'] = 'right'"
   ]
  },
  {
   "cell_type": "code",
   "execution_count": 5,
   "metadata": {},
   "outputs": [
    {
     "name": "stdout",
     "output_type": "stream",
     "text": [
      "Number of invalid answers: 0\n"
     ]
    }
   ],
   "source": [
    "parsed_outputs = {}\n",
    "\n",
    "invalid_answers = 0\n",
    "for verb in outputs:\n",
    "    verb_dict = {'up': 0, 'down': 0, 'left': 0, 'right': 0}\n",
    "    for permutation in outputs[verb]:\n",
    "        answer = outputs[verb][permutation].strip(' ')\n",
    "        if answer in label_to_direction:\n",
    "            direction = label_to_direction[answer]\n",
    "            verb_dict[direction] += 1\n",
    "        else:\n",
    "            print(answer)\n",
    "            invalid_answers += 1\n",
    "    for k in verb_dict:\n",
    "        verb_dict[k] = round(verb_dict[k]/24*100, 1)\n",
    "    parsed_outputs[verb] = verb_dict\n",
    "\n",
    "print(f'Number of invalid answers: {invalid_answers}')"
   ]
  },
  {
   "cell_type": "code",
   "execution_count": null,
   "metadata": {},
   "outputs": [],
   "source": [
    "dict_to_json(parsed_outputs, ROOT / 'src/fullpaper/results/vlms/parsed_results/molmo_reg.json')"
   ]
  },
  {
   "cell_type": "markdown",
   "metadata": {},
   "source": [
    "## Qwen-VL - Regular"
   ]
  },
  {
   "cell_type": "code",
   "execution_count": 23,
   "metadata": {},
   "outputs": [],
   "source": [
    "# outputs = open_json(ROOT / 'src/fullpaper/results/vlms/qwen-vl_human_oneshot.json')\n",
    "outputs = open_json(ROOT / 'src/fullpaper/results/vlms/qwen-vl-72b_human_oneshot.json')"
   ]
  },
  {
   "cell_type": "code",
   "execution_count": 24,
   "metadata": {},
   "outputs": [
    {
     "name": "stdout",
     "output_type": "stream",
     "text": [
      "Number of invalid answers: 0\n"
     ]
    }
   ],
   "source": [
    "parsed_outputs = {}\n",
    "\n",
    "invalid_answers = 0\n",
    "for verb in outputs:\n",
    "    verb_dict = {'up': 0, 'down': 0, 'left': 0, 'right': 0}\n",
    "    for permutation in outputs[verb]:\n",
    "        answer = outputs[verb][permutation][0].strip(' \\n').replace('Image: ', '')\n",
    "        if answer in label_to_direction:\n",
    "            direction = label_to_direction[answer]\n",
    "            verb_dict[direction] += 1\n",
    "        else:\n",
    "            print(answer)\n",
    "            invalid_answers += 1\n",
    "    for k in verb_dict:\n",
    "        verb_dict[k] = round(verb_dict[k]/24*100, 1)\n",
    "    parsed_outputs[verb] = verb_dict\n",
    "\n",
    "print(f'Number of invalid answers: {invalid_answers}')"
   ]
  },
  {
   "cell_type": "code",
   "execution_count": 11,
   "metadata": {},
   "outputs": [],
   "source": [
    "dict_to_json(parsed_outputs, ROOT / 'src/fullpaper/results/vlms/parsed_results/qwen-vl-72b_human_oneshot.json')"
   ]
  },
  {
   "cell_type": "markdown",
   "metadata": {},
   "source": [
    "## Molmo - Analogy"
   ]
  },
  {
   "cell_type": "code",
   "execution_count": 25,
   "metadata": {},
   "outputs": [],
   "source": [
    "outputs = open_json(ROOT / 'src/fullpaper/results/vlms/molmo_human_oneshot_analogy.json')\n"
   ]
  },
  {
   "cell_type": "code",
   "execution_count": 28,
   "metadata": {},
   "outputs": [],
   "source": [
    "invalid_responses = 0\n",
    "parsed_analogies = {}\n",
    "parsed_concepts = {}\n",
    "for event in outputs:\n",
    "    parsed_analogies[event] = {}\n",
    "    parsed_concepts[event] = {}\n",
    "    for permutation in outputs[event]:\n",
    "        try:\n",
    "            analogy, concept = outputs[event][permutation].split(\"Image: \")\n",
    "            parsed_analogies[event][permutation] = analogy.strip('\\n')\n",
    "            parsed_concepts[event][permutation] = concept[:4]\n",
    "        except: \n",
    "            try:\n",
    "                analogy, concept = outputs[event][permutation].split(\"Image choice: \")\n",
    "                parsed_analogies[event][permutation] = analogy.strip('\\n')\n",
    "                parsed_concepts[event][permutation] = concept\n",
    "            except:\n",
    "                try: \n",
    "                    actual_response = outputs[event][permutation].split(\"2.\")[1]\n",
    "                    analogy, concept = actual_response.split(\"Image choice:\")\n",
    "                    parsed_analogies[event][permutation] = analogy.strip('\\n ').replace('\\n', ' ')\n",
    "                    parsed_concepts[event][permutation] = concept.replace(' ', '')\n",
    "                except:\n",
    "                    invalid_responses += 1\n",
    "                    print(permutation, outputs[event][permutation])\n"
   ]
  },
  {
   "cell_type": "code",
   "execution_count": null,
   "metadata": {},
   "outputs": [],
   "source": []
  },
  {
   "cell_type": "code",
   "execution_count": 66,
   "metadata": {},
   "outputs": [],
   "source": [
    "dict_to_json(parsed_analogies, ROOT / 'src/fullpaper/results/vlms/parsed_results/molmo-human-analogies.json')"
   ]
  },
  {
   "cell_type": "code",
   "execution_count": 29,
   "metadata": {},
   "outputs": [
    {
     "name": "stdout",
     "output_type": "stream",
     "text": [
      "There are 0 invalid answers\n"
     ]
    }
   ],
   "source": [
    "out_dict = {}\n",
    "inv_ans = 0\n",
    "for event in parsed_concepts:\n",
    "    out_dict[event] = {'up': 0, 'down': 0, 'left': 0, 'right': 0}\n",
    "    for permutation in parsed_concepts[event]:\n",
    "        ans = parsed_concepts[event][permutation]\n",
    "        cond = ((img_labels[0]in ans) | (img_labels[1]in ans) | (img_labels[2]in ans) | (img_labels[3]in ans))\n",
    "        if np.array(cond).sum() == 1:\n",
    "            if img_labels[0] in ans:\n",
    "                out_dict[event][label_to_direction[img_labels[0]]] += 1\n",
    "            elif img_labels[1] in ans:\n",
    "                out_dict[event][label_to_direction[img_labels[1]]] += 1\n",
    "            elif img_labels[2] in ans:\n",
    "                out_dict[event][label_to_direction[img_labels[2]]] += 1\n",
    "            elif img_labels[3] in ans:\n",
    "                out_dict[event][label_to_direction[img_labels[3]]] += 1\n",
    "        else:\n",
    "            # print('Invalid answer')\n",
    "            inv_ans +=1\n",
    "for event in out_dict:\n",
    "    for concept in out_dict[event]:\n",
    "        out_dict[event][concept] = round(out_dict[event][concept] / 24 * 100, 1)\n",
    "print(f'There are {inv_ans} invalid answers')\n",
    "\n",
    "\n"
   ]
  },
  {
   "cell_type": "code",
   "execution_count": 68,
   "metadata": {},
   "outputs": [],
   "source": [
    "dict_to_json(out_dict, ROOT / 'src/fullpaper/results/vlms/parsed_results/molmo-human-concepts.json')\n"
   ]
  },
  {
   "cell_type": "code",
   "execution_count": 30,
   "metadata": {},
   "outputs": [],
   "source": [
    "outputs = open_json(ROOT / 'src/fullpaper/results/vlms/molmo-72b_human_oneshot_analogy.json')"
   ]
  },
  {
   "cell_type": "code",
   "execution_count": 31,
   "metadata": {},
   "outputs": [
    {
     "name": "stdout",
     "output_type": "stream",
     "text": [
      "0\n"
     ]
    }
   ],
   "source": [
    "invalid_responses = 0\n",
    "parsed_analogies = {}\n",
    "parsed_concepts = {}\n",
    "for event in outputs:\n",
    "    parsed_analogies[event] = {}\n",
    "    parsed_concepts[event] = {}\n",
    "    for permutation in outputs[event]:\n",
    "        try:\n",
    "            analogy, concept = outputs[event][permutation].split(\"Image: \")\n",
    "            parsed_analogies[event][permutation] = analogy.strip('\\n')\n",
    "            parsed_concepts[event][permutation] = concept[:4]\n",
    "        except: \n",
    "            \n",
    "            try:\n",
    "                analogy, concept = outputs[event][permutation].split(\"Looking at the images, we can see that the \")\n",
    "                parsed_analogies[event][permutation] = analogy.strip('\\n')\n",
    "                parsed_concepts[event][permutation] = concept[:4]\n",
    "            except:\n",
    "                invalid_responses += 1\n",
    "                print(permutation, outputs[event][permutation])\n",
    "                \n",
    "\n",
    "            #     try: \n",
    "            #         actual_response = outputs[event][permutation].split(\"2.\")[1]\n",
    "            #         analogy, concept = actual_response.split(\"Image choice:\")\n",
    "            #         parsed_analogies[event][permutation] = analogy.strip('\\n ').replace('\\n', ' ')\n",
    "            #         parsed_concepts[event][permutation] = concept.replace(' ', '')\n",
    "            #     except:\n",
    "            #         invalid_responses += 1\n",
    "            #         print(permutation, outputs[event][permutation])\n",
    "\n",
    "\n",
    "print(invalid_responses)"
   ]
  },
  {
   "cell_type": "code",
   "execution_count": 15,
   "metadata": {},
   "outputs": [],
   "source": [
    "for event in parsed_analogies:\n",
    "    for permutation in parsed_analogies[event]:\n",
    "        if 'Analogy: ' in parsed_analogies[event][permutation]:\n",
    "            new_analogy = parsed_analogies[event][permutation].split('Analogy: ')[1]\n",
    "            parsed_analogies[event][permutation] = new_analogy\n"
   ]
  },
  {
   "cell_type": "code",
   "execution_count": 21,
   "metadata": {},
   "outputs": [],
   "source": [
    "dict_to_json(parsed_analogies, ROOT / 'src/fullpaper/results/vlms/parsed_results/molmo72b-human-analogies.json')"
   ]
  },
  {
   "cell_type": "code",
   "execution_count": 32,
   "metadata": {},
   "outputs": [
    {
     "name": "stdout",
     "output_type": "stream",
     "text": [
      "There are 0 invalid answers\n"
     ]
    }
   ],
   "source": [
    "out_dict = {}\n",
    "inv_ans = 0\n",
    "for event in parsed_concepts:\n",
    "    out_dict[event] = {'up': 0, 'down': 0, 'left': 0, 'right': 0}\n",
    "    for permutation in parsed_concepts[event]:\n",
    "        ans = parsed_concepts[event][permutation]\n",
    "        cond = ((img_labels[0]in ans) | (img_labels[1]in ans) | (img_labels[2]in ans) | (img_labels[3]in ans))\n",
    "        if np.array(cond).sum() == 1:\n",
    "            if img_labels[0] in ans:\n",
    "                out_dict[event][label_to_direction[img_labels[0]]] += 1\n",
    "            elif img_labels[1] in ans:\n",
    "                out_dict[event][label_to_direction[img_labels[1]]] += 1\n",
    "            elif img_labels[2] in ans:\n",
    "                out_dict[event][label_to_direction[img_labels[2]]] += 1\n",
    "            elif img_labels[3] in ans:\n",
    "                out_dict[event][label_to_direction[img_labels[3]]] += 1\n",
    "        else:\n",
    "            # print('Invalid answer')\n",
    "            inv_ans +=1\n",
    "for event in out_dict:\n",
    "    for concept in out_dict[event]:\n",
    "        out_dict[event][concept] = round(out_dict[event][concept] / 24 * 100, 1)\n",
    "print(f'There are {inv_ans} invalid answers')\n",
    "\n",
    "\n"
   ]
  },
  {
   "cell_type": "code",
   "execution_count": 20,
   "metadata": {},
   "outputs": [],
   "source": [
    "dict_to_json(out_dict, ROOT / 'src/fullpaper/results/vlms/parsed_results/molmo72b-human-concepts.json')"
   ]
  },
  {
   "cell_type": "markdown",
   "metadata": {},
   "source": [
    "## Qwen-VL - Analogy"
   ]
  },
  {
   "cell_type": "code",
   "execution_count": 36,
   "metadata": {},
   "outputs": [],
   "source": [
    "outputs = open_json(ROOT / 'src/fullpaper/results/vlms/qwen-vl_human_oneshot_analogy.json')\n",
    "# outputs = open_json(ROOT / 'src/fullpaper/results/vlms/qwen-vl-72b_human_oneshot_analogy.json')"
   ]
  },
  {
   "cell_type": "code",
   "execution_count": 37,
   "metadata": {},
   "outputs": [],
   "source": [
    "parsed_analogies = {}\n",
    "parsed_concepts = {}\n",
    "for event in outputs:\n",
    "    parsed_analogies[event] = {}\n",
    "    parsed_concepts[event] = {}\n",
    "    for permutation in outputs[event]:\n",
    "        analogy, concept = outputs[event][permutation][0].split(\"Image: \")\n",
    "        parsed_analogies[event][permutation] = analogy.strip('\\n')\n",
    "        parsed_concepts[event][permutation] = concept[:4]\n"
   ]
  },
  {
   "cell_type": "code",
   "execution_count": 7,
   "metadata": {},
   "outputs": [],
   "source": [
    "dict_to_json(parsed_analogies, ROOT / 'src/fullpaper/results/vlms/parsed_results/qwen-vl-72b-human-analogies.json')"
   ]
  },
  {
   "cell_type": "code",
   "execution_count": 38,
   "metadata": {},
   "outputs": [
    {
     "name": "stdout",
     "output_type": "stream",
     "text": [
      "Number of invalid answers: 0\n"
     ]
    }
   ],
   "source": [
    "parsed_outputs = {}\n",
    "\n",
    "invalid_answers = 0\n",
    "for verb in parsed_concepts:\n",
    "    verb_dict = {'up': 0, 'down': 0, 'left': 0, 'right': 0}\n",
    "    for permutation in parsed_concepts[verb]:\n",
    "        answer = parsed_concepts[verb][permutation]\n",
    "        if answer in label_to_direction:\n",
    "            direction = label_to_direction[answer]\n",
    "            verb_dict[direction] += 1\n",
    "        else:\n",
    "            print(answer)\n",
    "            print(verb)\n",
    "            invalid_answers += 1\n",
    "    for k in verb_dict:\n",
    "        verb_dict[k] = round(verb_dict[k]/24*100, 1)\n",
    "    parsed_outputs[verb] = verb_dict\n",
    "\n",
    "print(f'Number of invalid answers: {invalid_answers}')"
   ]
  },
  {
   "cell_type": "code",
   "execution_count": 9,
   "metadata": {},
   "outputs": [],
   "source": [
    "# dict_to_json(parsed_outputs, ROOT / 'src/fullpaper/results/vlms/parsed_results/qwen-vl-human-concepts.json')\n",
    "\n",
    "dict_to_json(parsed_outputs, ROOT / 'src/fullpaper/results/vlms/parsed_results/qwen-vl-72b-human-concepts.json')\n"
   ]
  }
 ],
 "metadata": {
  "kernelspec": {
   "display_name": "nlg-prompt",
   "language": "python",
   "name": "python3"
  },
  "language_info": {
   "codemirror_mode": {
    "name": "ipython",
    "version": 3
   },
   "file_extension": ".py",
   "mimetype": "text/x-python",
   "name": "python",
   "nbconvert_exporter": "python",
   "pygments_lexer": "ipython3",
   "version": "3.9.12"
  }
 },
 "nbformat": 4,
 "nbformat_minor": 2
}
