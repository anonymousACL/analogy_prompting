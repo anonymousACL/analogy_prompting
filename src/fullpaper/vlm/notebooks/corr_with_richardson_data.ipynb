{
 "cells": [
  {
   "cell_type": "code",
   "execution_count": 1,
   "metadata": {},
   "outputs": [],
   "source": [
    "from utils.paths import ROOT\n",
    "from utils.utils import *\n",
    "import json\n",
    "from scipy.stats import spearmanr, pearsonr\n",
    "import pandas as pd\n",
    "from scipy.special import kl_div\n",
    "import numpy as np\n",
    "from pprint import pprint\n",
    "from sklearn.metrics import f1_score"
   ]
  },
  {
   "cell_type": "code",
   "execution_count": 2,
   "metadata": {},
   "outputs": [],
   "source": [
    "_, richardson_data, richardson_normed = load_richardson_data()"
   ]
  },
  {
   "cell_type": "markdown",
   "metadata": {},
   "source": [
    "## Qwen-VL - Regular"
   ]
  },
  {
   "cell_type": "code",
   "execution_count": 3,
   "metadata": {},
   "outputs": [
    {
     "name": "stdout",
     "output_type": "stream",
     "text": [
      "{'down': 4.59,\n",
      " 'left': 16.936666666666667,\n",
      " 'right': 5.413333333333333,\n",
      " 'up': 73.05999999999999}\n",
      "Up:\tcorr=0.22\tp_value=0.2336\n",
      "Down:\tcorr=0.45\tp_value=0.0124\n",
      "Left:\tcorr=0.05\tp_value=0.7951\n",
      "Right:\tcorr=0.19\tp_value=0.3231\n",
      "Horizontal:\tcorr=0.66\tp_value=0.0001\n",
      "Vertical:\tcorr=0.66\tp_value=0.0001\n",
      "The f1-score with human data is 0.18\n",
      "The binary f1-score with human data is 0.6\n"
     ]
    }
   ],
   "source": [
    "outputs = fix_label_distributions(open_json(ROOT / 'src/fullpaper/results/vlms/parsed_results/qwen-vl_human_oneshot.json'))\n",
    "answers = get_label_distribution(outputs)\n",
    "pprint(answers)\n",
    "get_corr_with_human_data(richardson_data, outputs)\n",
    "get_corr_with_human_data_binary(richardson_data, outputs)\n",
    "get_f1_score(richardson_data, outputs)\n",
    "get_f1_score_binary(richardson_data, outputs)"
   ]
  },
  {
   "cell_type": "code",
   "execution_count": 4,
   "metadata": {},
   "outputs": [
    {
     "name": "stdout",
     "output_type": "stream",
     "text": [
      "{'down': 8.333333333333334,\n",
      " 'left': 41.53333333333333,\n",
      " 'right': 40.830000000000005,\n",
      " 'up': 9.303333333333335}\n",
      "Up:\tcorr=0.53\tp_value=0.0024\n",
      "Down:\tcorr=0.5\tp_value=0.0053\n",
      "Left:\tcorr=0.31\tp_value=0.0967\n",
      "Right:\tcorr=0.44\tp_value=0.0162\n",
      "Horizontal:\tcorr=0.71\tp_value=0.0\n",
      "Vertical:\tcorr=0.71\tp_value=0.0\n",
      "The f1-score with human data is 0.41\n",
      "The binary f1-score with human data is 0.6\n"
     ]
    }
   ],
   "source": [
    "outputs = fix_label_distributions(open_json(ROOT / 'src/fullpaper/results/vlms/parsed_results/qwen-vl-72b_human_oneshot.json'))\n",
    "answers = get_label_distribution(outputs)\n",
    "pprint(answers)\n",
    "get_corr_with_human_data(richardson_data, outputs)\n",
    "get_corr_with_human_data_binary(richardson_data, outputs)\n",
    "get_f1_score(richardson_data, outputs)\n",
    "get_f1_score_binary(richardson_data, outputs)"
   ]
  },
  {
   "cell_type": "markdown",
   "metadata": {},
   "source": [
    "## Molmo - Regular"
   ]
  },
  {
   "cell_type": "code",
   "execution_count": 5,
   "metadata": {},
   "outputs": [
    {
     "name": "stdout",
     "output_type": "stream",
     "text": [
      "hunted\n",
      "offended\n",
      "warned\n",
      "wanted\n",
      "respected\n",
      "{'down': 30.0, 'left': 0.0, 'right': 3.3333333333333335, 'up': 50.0}\n",
      "Up:\tcorr=0.11\tp_value=0.6081\n",
      "Down:\tcorr=0.36\tp_value=0.0733\n",
      "Left:\tcorr=nan\tp_value=nan\n",
      "Right:\tcorr=0.34\tp_value=0.0965\n",
      "Horizontal:\tcorr=0.33\tp_value=0.1122\n",
      "Vertical:\tcorr=0.33\tp_value=0.1121\n",
      "The f1-score with human data is 0.3\n",
      "The binary f1-score with human data is 0.39\n"
     ]
    },
    {
     "name": "stderr",
     "output_type": "stream",
     "text": [
      "/gpfs/home4/abavaresco/Analogy_Prompting/utils/utils.py:160: ConstantInputWarning: An input array is constant; the correlation coefficient is not defined.\n",
      "  corr, p_value = spearmanr(model_values, richardson_values)\n"
     ]
    }
   ],
   "source": [
    "outputs = fix_label_distributions(open_json(ROOT / 'src/fullpaper/results/vlms/parsed_results/molmo_human_oneshot.json'))\n",
    "answers = get_label_distribution(outputs)\n",
    "pprint(answers)\n",
    "to_exclude = ['hunted', 'offended', 'warned', 'wanted', 'respected']\n",
    "get_corr_with_human_data(richardson_data, outputs, events_to_exclude=to_exclude)\n",
    "get_corr_with_human_data_binary(richardson_data, outputs, events_to_exclude=to_exclude)\n",
    "get_f1_score(richardson_data, outputs, events_to_exclude=to_exclude)\n",
    "get_f1_score_binary(richardson_data, outputs, events_to_exclude=to_exclude)"
   ]
  },
  {
   "cell_type": "code",
   "execution_count": 6,
   "metadata": {},
   "outputs": [
    {
     "name": "stdout",
     "output_type": "stream",
     "text": [
      "{'down': 0.0, 'left': 3.3333333333333335, 'right': 0.0, 'up': 96.66666666666667}\n",
      "Up:\tcorr=0.19\tp_value=0.306\n",
      "Down:\tcorr=nan\tp_value=nan\n",
      "Left:\tcorr=-0.27\tp_value=0.1517\n",
      "Right:\tcorr=nan\tp_value=nan\n",
      "Horizontal:\tcorr=0.3\tp_value=0.1068\n",
      "Vertical:\tcorr=0.3\tp_value=0.1067\n",
      "The f1-score with human data is 0.05\n",
      "The binary f1-score with human data is 0.33\n"
     ]
    },
    {
     "name": "stderr",
     "output_type": "stream",
     "text": [
      "/gpfs/home4/abavaresco/Analogy_Prompting/utils/utils.py:160: ConstantInputWarning: An input array is constant; the correlation coefficient is not defined.\n",
      "  corr, p_value = spearmanr(model_values, richardson_values)\n"
     ]
    }
   ],
   "source": [
    "outputs = fix_label_distributions(open_json(ROOT / 'src/fullpaper/results/vlms/parsed_results/molmo-72b_human_oneshot.json'))\n",
    "answers = get_label_distribution(outputs)\n",
    "pprint(answers)\n",
    "get_corr_with_human_data(richardson_data, outputs)\n",
    "get_corr_with_human_data_binary(richardson_data, outputs)\n",
    "get_f1_score(richardson_data, outputs)\n",
    "get_f1_score_binary(richardson_data, outputs)"
   ]
  },
  {
   "cell_type": "markdown",
   "metadata": {},
   "source": [
    "## Qwen-VL - Analogy"
   ]
  },
  {
   "cell_type": "code",
   "execution_count": 9,
   "metadata": {},
   "outputs": [
    {
     "name": "stdout",
     "output_type": "stream",
     "text": [
      "{'down': 43.20000000000002,\n",
      " 'left': 17.223333333333336,\n",
      " 'right': 7.503333333333332,\n",
      " 'up': 32.07333333333333}\n",
      "Up:\tcorr=0.56\tp_value=0.0013\n",
      "Down:\tcorr=0.52\tp_value=0.0034\n",
      "Left:\tcorr=0.11\tp_value=0.5772\n",
      "Right:\tcorr=0.22\tp_value=0.2408\n",
      "Horizontal:\tcorr=0.79\tp_value=0.0\n",
      "Vertical:\tcorr=0.79\tp_value=0.0\n",
      "The f1-score with human data is 0.34\n",
      "The binary f1-score with human data is 0.55\n"
     ]
    }
   ],
   "source": [
    "outputs = fix_label_distributions(open_json(ROOT / 'src/fullpaper/results/vlms/parsed_results/qwen-vl-human-concepts.json'))\n",
    "answers = get_label_distribution(outputs)\n",
    "pprint(answers)\n",
    "get_corr_with_human_data(richardson_data, outputs)\n",
    "get_corr_with_human_data_binary(richardson_data, outputs)\n",
    "get_f1_score(richardson_data, outputs)\n",
    "get_f1_score_binary(richardson_data, outputs)"
   ]
  },
  {
   "cell_type": "code",
   "execution_count": 10,
   "metadata": {},
   "outputs": [
    {
     "name": "stdout",
     "output_type": "stream",
     "text": [
      "{'down': 8.479999999999999,\n",
      " 'left': 23.466666666666665,\n",
      " 'right': 39.58666666666667,\n",
      " 'up': 28.466666666666672}\n",
      "Up:\tcorr=0.37\tp_value=0.045\n",
      "Down:\tcorr=0.42\tp_value=0.0219\n",
      "Left:\tcorr=0.36\tp_value=0.0483\n",
      "Right:\tcorr=0.52\tp_value=0.0033\n",
      "Horizontal:\tcorr=0.67\tp_value=0.0\n",
      "Vertical:\tcorr=0.67\tp_value=0.0\n",
      "The f1-score with human data is 0.51\n",
      "The binary f1-score with human data is 0.9\n"
     ]
    }
   ],
   "source": [
    "outputs = fix_label_distributions(open_json(ROOT / 'src/fullpaper/results/vlms/parsed_results/qwen-vl-72b-human-concepts.json'))\n",
    "answers = get_label_distribution(outputs)\n",
    "pprint(answers)\n",
    "get_corr_with_human_data(richardson_data, outputs)\n",
    "get_corr_with_human_data_binary(richardson_data, outputs)\n",
    "get_f1_score(richardson_data, outputs)\n",
    "get_f1_score_binary(richardson_data, outputs)"
   ]
  },
  {
   "cell_type": "markdown",
   "metadata": {},
   "source": [
    "## Molmo - Analogy"
   ]
  },
  {
   "cell_type": "code",
   "execution_count": 7,
   "metadata": {},
   "outputs": [
    {
     "name": "stdout",
     "output_type": "stream",
     "text": [
      "{'down': 53.333333333333336,\n",
      " 'left': 0.0,\n",
      " 'right': 3.3333333333333335,\n",
      " 'up': 43.333333333333336}\n",
      "Up:\tcorr=0.29\tp_value=0.1177\n",
      "Down:\tcorr=-0.17\tp_value=0.3583\n",
      "Left:\tcorr=nan\tp_value=nan\n",
      "Right:\tcorr=-0.26\tp_value=0.1694\n",
      "Horizontal:\tcorr=-0.25\tp_value=0.1887\n",
      "Vertical:\tcorr=-0.25\tp_value=0.1886\n",
      "The f1-score with human data is 0.15\n",
      "The binary f1-score with human data is 0.25\n"
     ]
    },
    {
     "name": "stderr",
     "output_type": "stream",
     "text": [
      "/gpfs/home4/abavaresco/Analogy_Prompting/utils/utils.py:160: ConstantInputWarning: An input array is constant; the correlation coefficient is not defined.\n",
      "  corr, p_value = spearmanr(model_values, richardson_values)\n"
     ]
    }
   ],
   "source": [
    "outputs = fix_label_distributions(open_json(ROOT / 'src/fullpaper/results/vlms/parsed_results/molmo-human-concepts.json'))\n",
    "\n",
    "answers = get_label_distribution(outputs)\n",
    "pprint(answers)\n",
    "get_corr_with_human_data(richardson_data, outputs)\n",
    "get_corr_with_human_data_binary(richardson_data, outputs)\n",
    "get_f1_score(richardson_data, outputs)\n",
    "get_f1_score_binary(richardson_data, outputs)"
   ]
  },
  {
   "cell_type": "code",
   "execution_count": 8,
   "metadata": {},
   "outputs": [
    {
     "name": "stdout",
     "output_type": "stream",
     "text": [
      "{'down': 10.0,\n",
      " 'left': 20.0,\n",
      " 'right': 6.666666666666667,\n",
      " 'up': 63.333333333333336}\n",
      "Up:\tcorr=0.32\tp_value=0.0847\n",
      "Down:\tcorr=-0.04\tp_value=0.8398\n",
      "Left:\tcorr=-0.07\tp_value=0.7044\n",
      "Right:\tcorr=0.15\tp_value=0.439\n",
      "Horizontal:\tcorr=0.52\tp_value=0.0031\n",
      "Vertical:\tcorr=0.52\tp_value=0.0033\n",
      "The f1-score with human data is 0.15\n",
      "The binary f1-score with human data is 0.68\n"
     ]
    }
   ],
   "source": [
    "\n",
    "outputs = fix_label_distributions(open_json(ROOT / 'src/fullpaper/results/vlms/parsed_results/molmo72b-human-concepts.json'))\n",
    "answers = get_label_distribution(outputs)\n",
    "pprint(answers)\n",
    "get_corr_with_human_data(richardson_data, outputs)\n",
    "get_corr_with_human_data_binary(richardson_data, outputs)\n",
    "get_f1_score(richardson_data, outputs)\n",
    "get_f1_score_binary(richardson_data, outputs)"
   ]
  }
 ],
 "metadata": {
  "kernelspec": {
   "display_name": "nlg-prompt",
   "language": "python",
   "name": "python3"
  },
  "language_info": {
   "codemirror_mode": {
    "name": "ipython",
    "version": 3
   },
   "file_extension": ".py",
   "mimetype": "text/x-python",
   "name": "python",
   "nbconvert_exporter": "python",
   "pygments_lexer": "ipython3",
   "version": "3.9.12"
  }
 },
 "nbformat": 4,
 "nbformat_minor": 2
}
