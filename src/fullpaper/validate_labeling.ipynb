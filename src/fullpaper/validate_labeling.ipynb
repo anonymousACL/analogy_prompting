{
 "cells": [
  {
   "cell_type": "markdown",
   "metadata": {},
   "source": [
    "# Using GPT-4 to label the analogies"
   ]
  },
  {
   "cell_type": "markdown",
   "metadata": {},
   "source": []
  },
  {
   "cell_type": "code",
   "execution_count": 1,
   "metadata": {},
   "outputs": [],
   "source": [
    "import openai\n",
    "from tqdm import tqdm\n",
    "\n",
    "RATE_LIMIT = .5  # 1 request per 2 seconds\n",
    "with open(\"../../../openai_valid.key\", 'r') as inputfile:\n",
    "    apiKey = inputfile.readline().strip()  # Reads the first line (API key)\n",
    "    orgKey = inputfile.readline().strip()  # Reads the second line (optional)\n",
    "    projKey = inputfile.readline().strip()  # Reads the third line (optional)\n",
    "\n",
    "# Set the OpenAI API key\n",
    "openai.api_key = apiKey\n",
    "# And set organization and project keys if applicable\n",
    "openai.organization = orgKey\n",
    "openai.project = projKey\n"
   ]
  },
  {
   "cell_type": "code",
   "execution_count": 2,
   "metadata": {},
   "outputs": [],
   "source": [
    "def prompt_model(prompt, reasoning=False):\n",
    "\n",
    "    if not reasoning:\n",
    "        response = openai.chat.completions.create(\n",
    "            model=\"gpt-4o\",\n",
    "            max_tokens=100,\n",
    "            temperature=0,\n",
    "            messages=[\n",
    "                {\"role\": \"user\", \"content\": prompt},\n",
    "            ],   \n",
    "        )\n",
    "        return(response.choices[0].message.content)\n",
    "    else:\n",
    "        #todo: add reasoning\n",
    "        pass"
   ]
  },
  {
   "cell_type": "code",
   "execution_count": 3,
   "metadata": {},
   "outputs": [],
   "source": [
    "with open(\"../../data/labeling_promptv3.txt\", \"r\") as f_in:\n",
    "    label_prompt = \"\".join(f_in.readlines())"
   ]
  },
  {
   "cell_type": "code",
   "execution_count": 4,
   "metadata": {},
   "outputs": [],
   "source": [
    "# store labels of analogies - change this:\n",
    "annotator = \"gpt-4\"\n",
    "\n",
    "# don't change this\n",
    "file_name = \"labeled_analogies_\"+annotator+\".txt\"\n",
    "file_path = \"results/analogy_labels/\"+file_name"
   ]
  },
  {
   "cell_type": "code",
   "execution_count": 5,
   "metadata": {},
   "outputs": [],
   "source": [
    "# load analogies\n",
    "path_to_data = \"../../data/human_results/label_validation_analogies.txt\"\n",
    "\n",
    "with open(path_to_data, \"r\") as f_in:\n",
    "    analogies = [x.strip() for x in f_in.readlines()]"
   ]
  },
  {
   "cell_type": "code",
   "execution_count": 6,
   "metadata": {},
   "outputs": [
    {
     "name": "stderr",
     "output_type": "stream",
     "text": [
      "100%|██████████| 30/30 [00:15<00:00,  1.91it/s]\n"
     ]
    }
   ],
   "source": [
    "run_model = input(\"Running the model? (y/n)\")\n",
    "if run_model != \"y\":\n",
    "   pass\n",
    "else:\n",
    "   labels = []\n",
    "   for analogy in tqdm(analogies):\n",
    "      prompt = label_prompt.replace(\"[EXPLANATION]\", \"Explanation: \"+analogy)\n",
    "      labels.append(prompt_model(prompt))"
   ]
  },
  {
   "cell_type": "code",
   "execution_count": 7,
   "metadata": {},
   "outputs": [
    {
     "name": "stdout",
     "output_type": "stream",
     "text": [
      "Physical Action\n",
      "Physical Action\n",
      "Physical Action\n",
      "Physical Action\n",
      "Cultural/Convention\n",
      "Cultural/Convention\n",
      "Physical Action\n",
      "Interactive Entities\n",
      "Cultural/Convention\n",
      "Interactive Entities\n",
      "Physical Action\n",
      "Interactive Entities\n",
      "Physical Action\n",
      "Physical Action\n",
      "Physical Action\n",
      "No Analogy/Explanation\n",
      "Interactive Entities\n",
      "Physical Action\n",
      "Cultural/Convention\n",
      "Cultural/Convention\n",
      "Cultural/Convention\n",
      "Physical Action\n",
      "No Analogy/Explanation\n",
      "Cultural/Convention\n",
      "Interactive Entities\n",
      "Cultural/Convention\n",
      "Physical Action\n",
      "Cultural/Convention\n",
      "Cultural/Convention\n",
      "Cultural/Convention\n"
     ]
    }
   ],
   "source": [
    "for label in labels:\n",
    "    print(label)"
   ]
  },
  {
   "cell_type": "code",
   "execution_count": null,
   "metadata": {},
   "outputs": [],
   "source": [
    "with open(\"../../data/human_results/labels_p.txt\", \"r\") as f:\n",
    "    labels_p = [line.strip() for line in f.readlines()]\n",
    "with open(\"../../data/human_results/labels_j.txt\", \"r\") as f:\n",
    "    labels_j = [line.strip() for line in f.readlines()]\n",
    "\n",
    "with open(f\"../../data/human_results/labels_{annotator}.txt\", \"w\") as f:\n",
    "    [f.write(line+'\\n') for line in labels]\n",
    "\n",
    "with open(f\"../../data/human_results/labels_{annotator}.txt\", \"r\") as f:\n",
    "    labels_g = [line.strip() for line in f.readlines()]\n",
    "\n",
    "labels_g = labels"
   ]
  },
  {
   "cell_type": "code",
   "execution_count": 9,
   "metadata": {},
   "outputs": [
    {
     "name": "stdout",
     "output_type": "stream",
     "text": [
      "Fleiss' Kappa: 0.6023818670764501\n"
     ]
    }
   ],
   "source": [
    "from statsmodels.stats.inter_rater import fleiss_kappa\n",
    "import numpy as np\n",
    "from collections import Counter\n",
    "\n",
    "\n",
    "# Combine the labels into a single list of lists\n",
    "annotations = [labels_p, labels_j, labels_g]\n",
    "annotations = list(zip(*annotations))  # Transpose so each sentence has its annotations grouped\n",
    "\n",
    "# Define all possible topics\n",
    "categories = [\"Physical Action\", \"Cultural/Convention\", \"Interactive Entities\", \"No Analogy/Explanation\"]\n",
    "\n",
    "# Create the matrix of counts (rows: sentences, columns: categories)\n",
    "def create_fleiss_matrix(annotations, categories):\n",
    "    fleiss_matrix = []\n",
    "    for sentence_annotations in annotations:\n",
    "        # Ensure all categories are included, even if count is 0\n",
    "        count = Counter({cat: 0 for cat in categories})\n",
    "        count.update(sentence_annotations)\n",
    "        row = [count[cat] for cat in categories]  # Ensure counts are aligned with category order\n",
    "        fleiss_matrix.append(row)\n",
    "    return np.array(fleiss_matrix)\n",
    "\n",
    "fleiss_matrix = create_fleiss_matrix(annotations, categories)\n",
    "\n",
    "# Print the Fleiss' matrix\n",
    "#print(\"Fleiss' Matrix:\")\n",
    "#print(fleiss_matrix)\n",
    "\n",
    "# Calculate Fleiss' Kappa\n",
    "kappa = fleiss_kappa(fleiss_matrix, method='fleiss')\n",
    "print(\"Fleiss' Kappa:\", kappa)\n"
   ]
  },
  {
   "cell_type": "code",
   "execution_count": 10,
   "metadata": {},
   "outputs": [
    {
     "name": "stdout",
     "output_type": "stream",
     "text": [
      "Cohen's Kappa (j-p): 0.6276595744680851\n",
      "Cohen's Kappa (j-g): 0.47916666666666663\n",
      "Cohen's Kappa (p-g): 0.7029702970297029\n"
     ]
    }
   ],
   "source": [
    "from sklearn.metrics import cohen_kappa_score\n",
    "\n",
    "# Compute Cohen's Kappa for each pair of annotators\n",
    "kappa_j_p = cohen_kappa_score(labels_j, labels_p)\n",
    "kappa_j_g = cohen_kappa_score(labels_j, labels_g)\n",
    "kappa_p_g = cohen_kappa_score(labels_p, labels_g)\n",
    "\n",
    "# Print the results\n",
    "print(\"Cohen's Kappa (j-p):\", kappa_j_p)\n",
    "print(\"Cohen's Kappa (j-g):\", kappa_j_g)\n",
    "print(\"Cohen's Kappa (p-g):\", kappa_p_g)\n",
    "\n",
    "\n",
    "# Cohen's Kappa (j-p): 0.6276595744680851 on the merged 3rd revision\n",
    "\n",
    "# Cohen's Kappa (j-p): 0.5376712328767124 on the merged 2nd revision\n",
    "# Cohen's Kappa (j-g): 0.48630136986301375 on the merged 2nd revision\n",
    "# Cohen's Kappa (p-g): 0.53125             on the merged 2nd revision"
   ]
  }
 ],
 "metadata": {
  "kernelspec": {
   "display_name": "schemas",
   "language": "python",
   "name": "python3"
  },
  "language_info": {
   "codemirror_mode": {
    "name": "ipython",
    "version": 3
   },
   "file_extension": ".py",
   "mimetype": "text/x-python",
   "name": "python",
   "nbconvert_exporter": "python",
   "pygments_lexer": "ipython3",
   "version": "3.8.17"
  }
 },
 "nbformat": 4,
 "nbformat_minor": 2
}
