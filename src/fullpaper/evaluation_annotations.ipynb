{
 "cells": [
  {
   "cell_type": "markdown",
   "metadata": {},
   "source": [
    "# Evaluation of the annotations"
   ]
  },
  {
   "cell_type": "code",
   "execution_count": null,
   "metadata": {},
   "outputs": [],
   "source": [
    "with open(\"../data/labels_p.txt\", \"r\") as f:\n",
    "    labels_p = [line.strip() for line in f.readlines()]\n",
    "with open(\"../data/labels_j.txt\", \"r\") as f:\n",
    "    labels_j = [line.strip() for line in f.readlines()]\n",
    "with open(\"../data/labels_gp.txt\", \"r\") as f:\n",
    "    labels_g = [line.strip() for line in f.readlines()]"
   ]
  },
  {
   "cell_type": "code",
   "execution_count": 2,
   "metadata": {},
   "outputs": [
    {
     "name": "stdout",
     "output_type": "stream",
     "text": [
      "Fleiss' Matrix:\n",
      "[[1 0 1 0 0]\n",
      " [2 0 0 0 0]\n",
      " [2 0 0 0 0]\n",
      " [2 0 0 0 0]\n",
      " [0 0 2 0 0]\n",
      " [0 0 2 0 0]\n",
      " [2 0 0 0 0]\n",
      " [0 0 0 2 0]\n",
      " [0 0 2 0 0]\n",
      " [1 0 0 1 0]\n",
      " [2 0 0 0 0]\n",
      " [0 0 2 0 0]\n",
      " [2 0 0 0 0]\n",
      " [2 0 0 0 0]\n",
      " [1 0 1 0 0]\n",
      " [0 0 0 2 0]\n",
      " [1 0 0 1 0]\n",
      " [0 0 2 0 0]\n",
      " [0 0 2 0 0]\n",
      " [0 0 2 0 0]\n",
      " [0 0 2 0 0]\n",
      " [0 0 2 0 0]\n",
      " [1 0 0 0 1]\n",
      " [0 0 2 0 0]\n",
      " [0 0 0 2 0]\n",
      " [0 0 2 0 0]\n",
      " [1 0 1 0 0]\n",
      " [0 0 2 0 0]\n",
      " [1 0 0 1 0]\n",
      " [0 0 2 0 0]]\n",
      "Fleiss' Kappa: 0.6243291592128801\n"
     ]
    }
   ],
   "source": [
    "from statsmodels.stats.inter_rater import fleiss_kappa\n",
    "import numpy as np\n",
    "from collections import Counter\n",
    "\n",
    "\n",
    "# Combine the labels into a single list of lists\n",
    "annotations = [labels_p, labels_j]\n",
    "annotations = list(zip(*annotations))  # Transpose so each sentence has its annotations grouped\n",
    "\n",
    "# Define all possible topics\n",
    "categories = [\"Physical Action\", \"Directional Metaphor\", \"Cultural/Convention\", \"Interactive Entities\", \"No Analogy/Explanation\"]\n",
    "\n",
    "# Create the matrix of counts (rows: sentences, columns: categories)\n",
    "def create_fleiss_matrix(annotations, categories):\n",
    "    fleiss_matrix = []\n",
    "    for sentence_annotations in annotations:\n",
    "        # Ensure all categories are included, even if count is 0\n",
    "        count = Counter({cat: 0 for cat in categories})\n",
    "        count.update(sentence_annotations)\n",
    "        row = [count[cat] for cat in categories]  # Ensure counts are aligned with category order\n",
    "        fleiss_matrix.append(row)\n",
    "    return np.array(fleiss_matrix)\n",
    "\n",
    "fleiss_matrix = create_fleiss_matrix(annotations, categories)\n",
    "\n",
    "# Print the Fleiss' matrix\n",
    "print(\"Fleiss' Matrix:\")\n",
    "print(fleiss_matrix)\n",
    "\n",
    "# Calculate Fleiss' Kappa\n",
    "kappa = fleiss_kappa(fleiss_matrix, method='fleiss')\n",
    "print(\"Fleiss' Kappa:\", kappa)\n"
   ]
  },
  {
   "cell_type": "code",
   "execution_count": 3,
   "metadata": {},
   "outputs": [
    {
     "name": "stdout",
     "output_type": "stream",
     "text": [
      "Cohen's Kappa (j-p): 0.6276595744680851\n",
      "Cohen's Kappa (j-g): -0.01851851851851838\n",
      "Cohen's Kappa (p-g): 0.12408759124087587\n"
     ]
    }
   ],
   "source": [
    "from sklearn.metrics import cohen_kappa_score\n",
    "\n",
    "# Compute Cohen's Kappa for each pair of annotators\n",
    "kappa_j_p = cohen_kappa_score(labels_j, labels_p)\n",
    "kappa_j_g = cohen_kappa_score(labels_j, labels_g)\n",
    "kappa_p_g = cohen_kappa_score(labels_p, labels_g)\n",
    "\n",
    "# Print the results\n",
    "print(\"Cohen's Kappa (j-p):\", kappa_j_p)\n",
    "print(\"Cohen's Kappa (j-g):\", kappa_j_g)\n",
    "print(\"Cohen's Kappa (p-g):\", kappa_p_g)\n",
    "\n"
   ]
  },
  {
   "cell_type": "code",
   "execution_count": 4,
   "metadata": {},
   "outputs": [
    {
     "name": "stdout",
     "output_type": "stream",
     "text": [
      "30\n",
      "30\n",
      "30\n"
     ]
    }
   ],
   "source": [
    "print(len(labels_g))\n",
    "print(len(labels_j))\n",
    "print(len(labels_p))\n"
   ]
  },
  {
   "cell_type": "code",
   "execution_count": null,
   "metadata": {},
   "outputs": [],
   "source": []
  }
 ],
 "metadata": {
  "kernelspec": {
   "display_name": "analogy",
   "language": "python",
   "name": "python3"
  },
  "language_info": {
   "codemirror_mode": {
    "name": "ipython",
    "version": 3
   },
   "file_extension": ".py",
   "mimetype": "text/x-python",
   "name": "python",
   "nbconvert_exporter": "python",
   "pygments_lexer": "ipython3",
   "version": "3.13.1"
  }
 },
 "nbformat": 4,
 "nbformat_minor": 2
}
